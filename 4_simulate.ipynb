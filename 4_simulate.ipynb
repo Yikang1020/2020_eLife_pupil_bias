{
 "cells": [
  {
   "cell_type": "code",
   "execution_count": 12,
   "metadata": {},
   "outputs": [],
   "source": [
    "#!/usr/bin/env python\n",
    "# encoding: utf-8\n",
    "\n",
    "import os\n",
    "import numpy as np\n",
    "import scipy as sp\n",
    "import matplotlib as mpl\n",
    "mpl.use(\"Agg\")\n",
    "mpl.rcParams['pdf.fonttype'] = 42\n",
    "\n",
    "import matplotlib.pylab as plt\n",
    "import seaborn as sns\n",
    "import pandas as pd\n",
    "from IPython import embed as shell\n",
    "\n",
    "import accumodels\n",
    "from accumodels import sim_tools\n",
    "from accumodels.sim_tools import get_DDM_traces, apply_bounds_diff_trace, _bounds, _bounds_collapse_linear, _bounds_collapse_hyperbolic\n",
    "from accumodels.plot_tools import summary_plot_group, conditional_response_plot\n",
    "from tqdm import tqdm"
   ]
  },
  {
   "cell_type": "code",
   "execution_count": null,
   "metadata": {},
   "outputs": [],
   "source": []
  },
  {
   "cell_type": "code",
   "execution_count": 13,
   "metadata": {},
   "outputs": [
    {
     "data": {
      "text/plain": [
       "{'font.size': 12.0,\n",
       " 'axes.labelsize': 7.0,\n",
       " 'axes.titlesize': 7.0,\n",
       " 'xtick.labelsize': 6.0,\n",
       " 'ytick.labelsize': 6.0,\n",
       " 'legend.fontsize': 6.0,\n",
       " 'axes.linewidth': 0.25,\n",
       " 'grid.linewidth': 1.0,\n",
       " 'lines.linewidth': 1.5,\n",
       " 'lines.markersize': 6.0,\n",
       " 'patch.linewidth': 1.0,\n",
       " 'xtick.major.width': 0.25,\n",
       " 'ytick.major.width': 0.25,\n",
       " 'xtick.minor.width': 1.0,\n",
       " 'ytick.minor.width': 1.0,\n",
       " 'xtick.major.size': 6.0,\n",
       " 'ytick.major.size': 6.0,\n",
       " 'xtick.minor.size': 4.0,\n",
       " 'ytick.minor.size': 4.0,\n",
       " 'legend.title_fontsize': 12.0}"
      ]
     },
     "execution_count": 13,
     "metadata": {},
     "output_type": "execute_result"
    }
   ],
   "source": [
    "sns.set(style='ticks', font='Arial', font_scale=1, rc={\n",
    "    'axes.linewidth': 0.25, \n",
    "    'axes.labelsize': 7, \n",
    "    'axes.titlesize': 7, \n",
    "    'xtick.labelsize': 6, \n",
    "    'ytick.labelsize': 6, \n",
    "    'legend.fontsize': 6, \n",
    "    'xtick.major.width': 0.25, \n",
    "    'ytick.major.width': 0.25,\n",
    "    'text.color': 'Black',\n",
    "    'axes.labelcolor':'Black',\n",
    "    'xtick.color':'Black',\n",
    "    'ytick.color':'Black',} )\n",
    "sns.plotting_context()"
   ]
  },
  {
   "cell_type": "code",
   "execution_count": 14,
   "metadata": {},
   "outputs": [],
   "source": [
    "def do_simulations(params):\n",
    "    rt = []\n",
    "    response = []\n",
    "    stimulus = []\n",
    "    for stim in [1,0]:\n",
    "        \n",
    "        # get traces:\n",
    "        x = get_DDM_traces(v=params['v'],\n",
    "                            z=params['z'],\n",
    "                            dc=params['dc'],\n",
    "                            dc_slope=params['dc_slope'],\n",
    "                            sv=params['sv'],\n",
    "                            stim=stim,\n",
    "                            nr_trials=params['nr_trials'],\n",
    "                            tmax=tmax,\n",
    "                            dt=dt,)\n",
    "        \n",
    "        # get bounds:\n",
    "        if params['bound'] == 'default':\n",
    "            b1, b0 = _bounds(a=params['a'], tmax=tmax, dt=dt)\n",
    "        elif params['bound'] == 'collapse_linear':\n",
    "            b1, b0 = _bounds_collapse_linear(a=params['a'], c1=params['c1'], c0=params['c0'], tmax=tmax, dt=dt)\n",
    "        elif params['bound'] == 'collapse_hyperbolic':\n",
    "            b1, b0 = _bounds_collapse_hyperbolic(a=params['a'], c=params['c'], tmax=tmax, dt=dt)\n",
    "        \n",
    "        # apply bounds:\n",
    "        rt_dum, response_dum = apply_bounds_diff_trace(x=x, b1=b1, b0=b0)\n",
    "        \n",
    "        # store results:\n",
    "        rt.append((rt_dum*dt)+ndt)\n",
    "        response.append(response_dum)\n",
    "        stimulus.append(np.ones(params['nr_trials']) * stim)\n",
    "\n",
    "    df = pd.DataFrame()\n",
    "    df.loc[:,'rt'] = np.concatenate(rt)\n",
    "    df.loc[:,'response'] = np.concatenate(response)\n",
    "    df.loc[:,'stimulus'] = np.concatenate(stimulus)\n",
    "    df.loc[:,'correct'] = np.array(np.concatenate(stimulus) == np.concatenate(response), dtype=int)\n",
    "    df.loc[:,'subj_idx'] = params['subj_idx']\n",
    "    df.to_csv(os.path.join(data_folder, 'df_{}.csv'.format(params['subj_idx'])))"
   ]
  },
  {
   "cell_type": "code",
   "execution_count": 15,
   "metadata": {},
   "outputs": [],
   "source": [
    "data_folder = os.path.expanduser('/home/jovyan/hddm/data/simulate')\n",
    "fig_folder = os.path.expanduser('/home/jovyan/hddm/figs/simulate')"
   ]
  },
  {
   "cell_type": "code",
   "execution_count": 16,
   "metadata": {},
   "outputs": [],
   "source": [
    "simulate = True\n",
    "parallel = True\n",
    "nr_trials = int(1e5) #100K\n",
    "# nr_trials = int(1e4) #10.000\n",
    "tmax = 5\n",
    "dt = 0.01"
   ]
  },
  {
   "cell_type": "code",
   "execution_count": 17,
   "metadata": {},
   "outputs": [],
   "source": [
    "v = 0.5\n",
    "a = 2\n",
    "dc = 0\n",
    "dc_slope = 0\n",
    "ndt = 0.3\n",
    "sv = 0"
   ]
  },
  {
   "cell_type": "code",
   "execution_count": 18,
   "metadata": {},
   "outputs": [],
   "source": [
    "sArray = [\n",
    "\n",
    "    # 1 increasing starting point bias:\n",
    "    {'subj_idx':0, 'v':v, 'dc':dc, 'z':0.50*a, 'a':a, 'dc_slope':dc_slope, 'sv':sv, 'bound':'default', 'nr_trials':nr_trials},\n",
    "    {'subj_idx':1, 'v':v, 'dc':dc, 'z':0.55*a, 'a':a, 'dc_slope':dc_slope, 'sv':sv, 'bound':'default', 'nr_trials':nr_trials},\n",
    "    {'subj_idx':2, 'v':v, 'dc':dc, 'z':0.60*a, 'a':a, 'dc_slope':dc_slope, 'sv':sv, 'bound':'default', 'nr_trials':nr_trials},\n",
    "\n",
    "    # increasing drift bias:\n",
    "    {'subj_idx':3, 'v':v, 'dc':dc+0.00, 'z':0.5*a, 'a':a, 'dc_slope':dc_slope, 'sv':sv, 'bound':'default', 'nr_trials':nr_trials},\n",
    "    {'subj_idx':4, 'v':v, 'dc':dc+0.12, 'z':0.5*a, 'a':a, 'dc_slope':dc_slope, 'sv':sv, 'bound':'default', 'nr_trials':nr_trials},\n",
    "    {'subj_idx':5, 'v':v, 'dc':dc+0.24, 'z':0.5*a, 'a':a, 'dc_slope':dc_slope, 'sv':sv, 'bound':'default', 'nr_trials':nr_trials},\n",
    "\n",
    "    # fixed starting point bias, increasing collapsing bounds:\n",
    "    {'subj_idx':6, 'v':v, 'dc':dc+0, 'z':0.55*a, 'a':a, 'dc_slope':dc_slope, 'sv':sv, 'bound':'collapse_hyperbolic', 'c':200.0, 'nr_trials':nr_trials},\n",
    "    {'subj_idx':7, 'v':v, 'dc':dc+0, 'z':0.55*a, 'a':a, 'dc_slope':dc_slope, 'sv':sv, 'bound':'collapse_hyperbolic', 'c':2, 'nr_trials':nr_trials},\n",
    "    {'subj_idx':8, 'v':v, 'dc':dc+0, 'z':0.55*a, 'a':a, 'dc_slope':dc_slope, 'sv':sv, 'bound':'collapse_hyperbolic', 'c':0.5, 'nr_trials':nr_trials},\n",
    "\n",
    "    # fixed starting point bias, increasing collapsing bounds:\n",
    "    {'subj_idx':9, 'v':v, 'dc':dc+0.12, 'z':0.5*a, 'a':a, 'dc_slope':dc_slope, 'sv':sv, 'bound':'collapse_hyperbolic', 'c':200.0, 'nr_trials':nr_trials},\n",
    "    {'subj_idx':10, 'v':v, 'dc':dc+0.12, 'z':0.5*a, 'a':a, 'dc_slope':dc_slope, 'sv':sv, 'bound':'collapse_hyperbolic', 'c':2, 'nr_trials':nr_trials},\n",
    "    {'subj_idx':11, 'v':v, 'dc':dc+0.12, 'z':0.5*a, 'a':a, 'dc_slope':dc_slope, 'sv':sv, 'bound':'collapse_hyperbolic', 'c':0.5, 'nr_trials':nr_trials},\n",
    "\n",
    "    # # 1 increasing starting point bias, fixed collapsing bounds:\n",
    "    # {'subj_idx':6, 'v':v, 'dc':dc+0, 'z':0.5*a, 'a':a, 'dc_slope':dc_slope, 'sv':sv, 'bound':'collapse_hyperbolic', 'c':0.8, 'nr_trials':nr_trials},\n",
    "    # {'subj_idx':7, 'v':v, 'dc':dc+0, 'z':0.53*a, 'a':a, 'dc_slope':dc_slope, 'sv':sv, 'bound':'collapse_hyperbolic', 'c':0.8, 'nr_trials':nr_trials},\n",
    "    # {'subj_idx':8, 'v':v, 'dc':dc+0, 'z':0.56*a, 'a':a, 'dc_slope':dc_slope, 'sv':sv, 'bound':'collapse_hyperbolic', 'c':0.8, 'nr_trials':nr_trials},\n",
    "\n",
    "    ]\n",
    "\n",
    "# up1, down1 = _bounds_collapse_hyperbolic(2, 1.6, lower_is_0=True, tmax=5, dt=0.01)\n",
    "# up2, down2 = _bounds_collapse_hyperbolic(2, 0.8, lower_is_0=True, tmax=5, dt=0.01)\n",
    "# up3, down3 = _bounds_collapse_hyperbolic(2, 0.4, lower_is_0=True, tmax=5, dt=0.01)\n",
    "# plt.plot(up1, color='r')\n",
    "# plt.plot(down1, color='r')\n",
    "# plt.plot(up2, color='g')\n",
    "# plt.plot(down2, color='g')\n",
    "# plt.plot(up3, color='b')\n",
    "# plt.plot(down3, color='b')"
   ]
  },
  {
   "cell_type": "code",
   "execution_count": 19,
   "metadata": {},
   "outputs": [
    {
     "name": "stderr",
     "output_type": "stream",
     "text": [
      "/opt/conda/lib/python3.7/site-packages/joblib/externals/loky/process_executor.py:691: UserWarning: A worker stopped while some jobs were given to the executor. This can be caused by a too short worker timeout or by a memory leak.\n",
      "  \"timeout or by a memory leak.\", UserWarning\n"
     ]
    }
   ],
   "source": [
    "if simulate:\n",
    "    if not parallel:\n",
    "        for i, s in tqdm(enumerate(sArray)):\n",
    "            do_simulations(s) \n",
    "    else:\n",
    "        from joblib import Parallel, delayed\n",
    "        n_jobs = 42\n",
    "        res = Parallel(n_jobs=n_jobs)(delayed(do_simulations)(params) for params in sArray)\n",
    "        # do_simulations(sArray[0])"
   ]
  },
  {
   "cell_type": "code",
   "execution_count": 20,
   "metadata": {},
   "outputs": [],
   "source": [
    "groups = [list(np.arange(0,3)), list(np.arange(3,6)), list(np.arange(6,9)), list(np.arange(9,12)),]\n",
    "quantiles = [0, 0.1, 0.3, 0.5, 0.7, 0.9, 1]\n",
    "\n",
    "cmaps = [\"Greens\", 'Blues', 'Oranges', 'Purples', 'RdPu']"
   ]
  },
  {
   "cell_type": "code",
   "execution_count": 21,
   "metadata": {},
   "outputs": [
    {
     "name": "stderr",
     "output_type": "stream",
     "text": [
      "/home/jovyan/hddm/accumodels/plot_tools.py:224: RuntimeWarning: More than 20 figures have been opened. Figures created through the pyplot interface (`matplotlib.pyplot.figure`) are retained until explicitly closed and may consume too much memory. (To control this warning, see the rcParam `figure.max_open_warning`).\n",
      "  fig = plt.figure(figsize=(1.5,1.5))\n",
      "/home/jovyan/hddm/accumodels/plot_tools.py:84: RuntimeWarning: More than 20 figures have been opened. Figures created through the pyplot interface (`matplotlib.pyplot.figure`) are retained until explicitly closed and may consume too much memory. (To control this warning, see the rcParam `figure.max_open_warning`).\n",
      "  fig = plt.figure(figsize=(6,1.5))\n",
      "/opt/conda/lib/python3.7/site-packages/pandas/core/indexing.py:966: SettingWithCopyWarning: \n",
      "A value is trying to be set on a copy of a slice from a DataFrame.\n",
      "Try using .loc[row_indexer,col_indexer] = value instead\n",
      "\n",
      "See the caveats in the documentation: https://pandas.pydata.org/pandas-docs/stable/user_guide/indexing.html#returning-a-view-versus-a-copy\n",
      "  self.obj[item] = s\n",
      "/opt/conda/lib/python3.7/site-packages/pandas/core/indexing.py:966: SettingWithCopyWarning: \n",
      "A value is trying to be set on a copy of a slice from a DataFrame.\n",
      "Try using .loc[row_indexer,col_indexer] = value instead\n",
      "\n",
      "See the caveats in the documentation: https://pandas.pydata.org/pandas-docs/stable/user_guide/indexing.html#returning-a-view-versus-a-copy\n",
      "  self.obj[item] = s\n",
      "/home/jovyan/hddm/accumodels/plot_tools.py:84: RuntimeWarning: More than 20 figures have been opened. Figures created through the pyplot interface (`matplotlib.pyplot.figure`) are retained until explicitly closed and may consume too much memory. (To control this warning, see the rcParam `figure.max_open_warning`).\n",
      "  fig = plt.figure(figsize=(6,1.5))\n",
      "/opt/conda/lib/python3.7/site-packages/pandas/core/indexing.py:966: SettingWithCopyWarning: \n",
      "A value is trying to be set on a copy of a slice from a DataFrame.\n",
      "Try using .loc[row_indexer,col_indexer] = value instead\n",
      "\n",
      "See the caveats in the documentation: https://pandas.pydata.org/pandas-docs/stable/user_guide/indexing.html#returning-a-view-versus-a-copy\n",
      "  self.obj[item] = s\n",
      "/opt/conda/lib/python3.7/site-packages/pandas/core/indexing.py:966: SettingWithCopyWarning: \n",
      "A value is trying to be set on a copy of a slice from a DataFrame.\n",
      "Try using .loc[row_indexer,col_indexer] = value instead\n",
      "\n",
      "See the caveats in the documentation: https://pandas.pydata.org/pandas-docs/stable/user_guide/indexing.html#returning-a-view-versus-a-copy\n",
      "  self.obj[item] = s\n",
      "/home/jovyan/hddm/accumodels/plot_tools.py:84: RuntimeWarning: More than 20 figures have been opened. Figures created through the pyplot interface (`matplotlib.pyplot.figure`) are retained until explicitly closed and may consume too much memory. (To control this warning, see the rcParam `figure.max_open_warning`).\n",
      "  fig = plt.figure(figsize=(6,1.5))\n",
      "/opt/conda/lib/python3.7/site-packages/pandas/core/indexing.py:966: SettingWithCopyWarning: \n",
      "A value is trying to be set on a copy of a slice from a DataFrame.\n",
      "Try using .loc[row_indexer,col_indexer] = value instead\n",
      "\n",
      "See the caveats in the documentation: https://pandas.pydata.org/pandas-docs/stable/user_guide/indexing.html#returning-a-view-versus-a-copy\n",
      "  self.obj[item] = s\n",
      "/opt/conda/lib/python3.7/site-packages/pandas/core/indexing.py:966: SettingWithCopyWarning: \n",
      "A value is trying to be set on a copy of a slice from a DataFrame.\n",
      "Try using .loc[row_indexer,col_indexer] = value instead\n",
      "\n",
      "See the caveats in the documentation: https://pandas.pydata.org/pandas-docs/stable/user_guide/indexing.html#returning-a-view-versus-a-copy\n",
      "  self.obj[item] = s\n"
     ]
    },
    {
     "ename": "NameError",
     "evalue": "name 'summary_plot' is not defined",
     "output_type": "error",
     "traceback": [
      "\u001b[0;31m---------------------------------------------------------------------------\u001b[0m",
      "\u001b[0;31mNameError\u001b[0m                                 Traceback (most recent call last)",
      "\u001b[0;32m<ipython-input-21-60236fdc4ccb>\u001b[0m in \u001b[0;36m<module>\u001b[0;34m\u001b[0m\n\u001b[1;32m     26\u001b[0m         \u001b[0mfig\u001b[0m\u001b[0;34m.\u001b[0m\u001b[0msavefig\u001b[0m\u001b[0;34m(\u001b[0m\u001b[0mos\u001b[0m\u001b[0;34m.\u001b[0m\u001b[0mpath\u001b[0m\u001b[0;34m.\u001b[0m\u001b[0mjoin\u001b[0m\u001b[0;34m(\u001b[0m\u001b[0mfig_folder\u001b[0m\u001b[0;34m,\u001b[0m \u001b[0;34m'summary_{}_{}.pdf'\u001b[0m\u001b[0;34m.\u001b[0m\u001b[0mformat\u001b[0m\u001b[0;34m(\u001b[0m\u001b[0mi\u001b[0m\u001b[0;34m,\u001b[0m\u001b[0ms\u001b[0m\u001b[0;34m)\u001b[0m\u001b[0;34m)\u001b[0m\u001b[0;34m)\u001b[0m\u001b[0;34m\u001b[0m\u001b[0;34m\u001b[0m\u001b[0m\n\u001b[1;32m     27\u001b[0m \u001b[0;34m\u001b[0m\u001b[0m\n\u001b[0;32m---> 28\u001b[0;31m     \u001b[0mfig\u001b[0m \u001b[0;34m=\u001b[0m \u001b[0msummary_plot\u001b[0m\u001b[0;34m(\u001b[0m\u001b[0mdf\u001b[0m\u001b[0;34m,\u001b[0m \u001b[0mquantiles\u001b[0m\u001b[0;34m,\u001b[0m \u001b[0mmean_correct\u001b[0m\u001b[0;34m,\u001b[0m \u001b[0mmean_response\u001b[0m\u001b[0;34m,\u001b[0m \u001b[0mxlim\u001b[0m\u001b[0;34m=\u001b[0m\u001b[0;34m(\u001b[0m\u001b[0;36m0.1\u001b[0m\u001b[0;34m,\u001b[0m\u001b[0;36m0.7\u001b[0m\u001b[0;34m)\u001b[0m\u001b[0;34m)\u001b[0m\u001b[0;34m\u001b[0m\u001b[0;34m\u001b[0m\u001b[0m\n\u001b[0m\u001b[1;32m     29\u001b[0m     \u001b[0mfig\u001b[0m\u001b[0;34m.\u001b[0m\u001b[0msavefig\u001b[0m\u001b[0;34m(\u001b[0m\u001b[0mos\u001b[0m\u001b[0;34m.\u001b[0m\u001b[0mpath\u001b[0m\u001b[0;34m.\u001b[0m\u001b[0mjoin\u001b[0m\u001b[0;34m(\u001b[0m\u001b[0mfig_folder\u001b[0m\u001b[0;34m,\u001b[0m \u001b[0;34m'summary_{}.pdf'\u001b[0m\u001b[0;34m.\u001b[0m\u001b[0mformat\u001b[0m\u001b[0;34m(\u001b[0m\u001b[0mi\u001b[0m\u001b[0;34m)\u001b[0m\u001b[0;34m)\u001b[0m\u001b[0;34m)\u001b[0m\u001b[0;34m\u001b[0m\u001b[0;34m\u001b[0m\u001b[0m\n\u001b[1;32m     30\u001b[0m \u001b[0;34m\u001b[0m\u001b[0m\n",
      "\u001b[0;31mNameError\u001b[0m: name 'summary_plot' is not defined"
     ]
    }
   ],
   "source": [
    "for i, group in enumerate(groups):\n",
    "    \n",
    "    # neutral:\n",
    "    df = pd.read_csv(os.path.join(data_folder, 'df_{}.csv'.format(0)))\n",
    "    mean_correct = df.correct.mean()\n",
    "    mean_response = df.response.mean()\n",
    "    \n",
    "    # load group:\n",
    "    df = pd.concat([pd.read_csv(os.path.join(data_folder, 'df_{}.csv'.format(g))) for g in group], axis=0)\n",
    "    \n",
    "    # plots:\n",
    "    quantiles = [0, 0.1, 0.3, 0.5, 0.7, 0.9,]\n",
    "\n",
    "    fig = conditional_response_plot(df, quantiles, mean_response, xlim=(0.2,2), cmap=cmaps[i])\n",
    "    fig.savefig(os.path.join(fig_folder, 'crf_{}.pdf'.format(i)))\n",
    "\n",
    "    fig = conditional_response_plot(df, quantiles, mean_response, xlim=(0.2,2), cmap=cmaps[i])\n",
    "    fig.savefig(os.path.join(fig_folder, 'crf_{}.pdf'.format(i)))\n",
    "\n",
    "    fig = conditional_response_plot(df, quantiles, mean_response, y='correct', xlim=(0.2,2), ylim=[0.5,0.8], cmap=cmaps[i])\n",
    "    fig.savefig(os.path.join(fig_folder, 'caf_{}.pdf'.format(i)))\n",
    "\n",
    "    for s, d in df.groupby(['subj_idx']):\n",
    "\n",
    "        fig = summary_plot_group(d, df_sim_group=d, quantiles=quantiles, step_size=0.01, xlim=(0.2,2))\n",
    "        fig.savefig(os.path.join(fig_folder, 'summary_{}_{}.pdf'.format(i,s)))\n",
    "\n",
    "    #fig = summary_plot(df, quantiles, mean_correct, mean_response, xlim=(0.1,0.7))\n",
    "    #fig.savefig(os.path.join(fig_folder, 'summary_{}.pdf'.format(i)))\n",
    "\n",
    "    print(df.groupby('subj_idx').mean())"
   ]
  },
  {
   "cell_type": "code",
   "execution_count": null,
   "metadata": {},
   "outputs": [],
   "source": []
  },
  {
   "cell_type": "code",
   "execution_count": null,
   "metadata": {},
   "outputs": [],
   "source": []
  }
 ],
 "metadata": {
  "kernelspec": {
   "display_name": "Python 3",
   "language": "python",
   "name": "python3"
  },
  "language_info": {
   "codemirror_mode": {
    "name": "ipython",
    "version": 3
   },
   "file_extension": ".py",
   "mimetype": "text/x-python",
   "name": "python",
   "nbconvert_exporter": "python",
   "pygments_lexer": "ipython3",
   "version": "3.7.6"
  }
 },
 "nbformat": 4,
 "nbformat_minor": 4
}
