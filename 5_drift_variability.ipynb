{
 "cells": [
  {
   "cell_type": "markdown",
   "metadata": {},
   "source": [
    "# Fitting go/no-go using the chi-qsuare approach\n",
    "## by Jan Willem de Gee (jwdegee@gmail.com)"
   ]
  },
  {
   "cell_type": "markdown",
   "metadata": {},
   "source": [
    "This is a demo of fitting go/no-go data with HDDM using the chi-qsuare method, as described in \n",
    "\n",
    "    de Gee JW, Tsetsos T, McCormick DA, McGinley MJ & Donner TH. 2018. Phasic arousal optimizes decision computations in mice and humans. bioRxiv. (https://www.biorxiv.org/content/early/2018/10/19/447656).\n",
    "    \n",
    "\n",
    "See also\n",
    "    \n",
    "    Ratcliff, R., Huang-Pollock, C., & McKoon, G. (2016). Modeling individual differences in the go/no-go task with a diffusion model. Decision, 5(1), 42-62 (http://psycnet.apa.org/record/2016-39470-001)."
   ]
  },
  {
   "cell_type": "code",
   "execution_count": 63,
   "metadata": {},
   "outputs": [],
   "source": [
    "import sys, os\n",
    "import numpy as np\n",
    "import pandas as pd\n",
    "import matplotlib\n",
    "import matplotlib.pyplot as plt\n",
    "import seaborn as sns\n",
    "import hddm\n",
    "from joblib import Parallel, delayed\n",
    "from IPython import embed as shell"
   ]
  },
  {
   "cell_type": "code",
   "execution_count": 64,
   "metadata": {},
   "outputs": [
    {
     "data": {
      "text/plain": [
       "{'font.size': 12.0,\n",
       " 'axes.labelsize': 7.0,\n",
       " 'axes.titlesize': 7.0,\n",
       " 'xtick.labelsize': 6.0,\n",
       " 'ytick.labelsize': 6.0,\n",
       " 'legend.fontsize': 6.0,\n",
       " 'axes.linewidth': 0.25,\n",
       " 'grid.linewidth': 1.0,\n",
       " 'lines.linewidth': 1.5,\n",
       " 'lines.markersize': 6.0,\n",
       " 'patch.linewidth': 1.0,\n",
       " 'xtick.major.width': 0.25,\n",
       " 'ytick.major.width': 0.25,\n",
       " 'xtick.minor.width': 1.0,\n",
       " 'ytick.minor.width': 1.0,\n",
       " 'xtick.major.size': 6.0,\n",
       " 'ytick.major.size': 6.0,\n",
       " 'xtick.minor.size': 4.0,\n",
       " 'ytick.minor.size': 4.0}"
      ]
     },
     "execution_count": 64,
     "metadata": {},
     "output_type": "execute_result"
    }
   ],
   "source": [
    "matplotlib.rcParams['pdf.fonttype'] = 42\n",
    "matplotlib.rcParams['ps.fonttype'] = 42\n",
    "sns.set(style='ticks', font='Arial', font_scale=1, rc={\n",
    "    'axes.labelsize': 7,\n",
    "    'axes.titlesize': 7,\n",
    "    'xtick.labelsize': 6,\n",
    "    'ytick.labelsize': 6,\n",
    "    'legend.fontsize': 6,\n",
    "    'axes.linewidth': 0.25,\n",
    "    'xtick.major.width': 0.25,\n",
    "    'ytick.major.width': 0.25,\n",
    "    'ytick.major.width': 0.25,\n",
    "    'ytick.major.width': 0.25,\n",
    "    'ytick.major.pad' : 2.0,\n",
    "    'ytick.minor.pad' : 2.0,\n",
    "    'xtick.major.pad' : 2.0,\n",
    "    'xtick.minor.pad' : 2.0,\n",
    "    'axes.labelpad' : 4.0,\n",
    "    'axes.titlepad' : 6.0,\n",
    "    } )\n",
    "sns.plotting_context()\n"
   ]
  },
  {
   "cell_type": "markdown",
   "metadata": {},
   "source": [
    "Let's start with defining some functionality"
   ]
  },
  {
   "cell_type": "code",
   "execution_count": 2,
   "metadata": {},
   "outputs": [],
   "source": [
    "def get_choice(row):\n",
    "    \n",
    "    if row.condition == 'present':\n",
    "        if row.response == 1:\n",
    "            return 1\n",
    "        else:\n",
    "            return 0\n",
    "    elif row.condition == 'absent':\n",
    "        if row.response == 0:\n",
    "            return 1\n",
    "        else:\n",
    "            return 0\n",
    "\n",
    "def simulate_data(a, v, t, z, dc, sv=0, sz=0, st=0, condition=0, nr_trials1=1000, nr_trials2=1000):\n",
    "    \n",
    "    \"\"\"\n",
    "    Simulates stim-coded data.\n",
    "    \"\"\"\n",
    "    \n",
    "    parameters1 = {'a':a, 'v':v+dc, 't':t, 'z':z, 'sv':sv, 'sz': sz, 'st': st}\n",
    "    parameters2 = {'a':a, 'v':v-dc, 't':t, 'z':1-z, 'sv':sv, 'sz': sz, 'st': st}\n",
    "    df_sim1, params_sim1 = hddm.generate.gen_rand_data(params=parameters1, size=nr_trials1, subjs=1, subj_noise=0)\n",
    "    df_sim1['condition'] = 'present'\n",
    "    df_sim2, params_sim2 = hddm.generate.gen_rand_data(params=parameters2, size=nr_trials2, subjs=1, subj_noise=0)\n",
    "    df_sim2['condition'] = 'absent'\n",
    "    df_sim = pd.concat((df_sim1, df_sim2))\n",
    "    df_sim['bias_response'] = df_sim.apply(get_choice, 1)\n",
    "    df_sim['correct'] = df_sim['response'].astype(int)\n",
    "    df_sim['response'] = df_sim['bias_response'].astype(int)\n",
    "    df_sim['stimulus'] = np.array((np.array(df_sim['response']==1) & np.array(df_sim['correct']==1)) + (np.array(df_sim['response']==0) & np.array(df_sim['correct']==0)), dtype=int)\n",
    "    df_sim['condition'] = condition\n",
    "    df_sim = df_sim.drop(columns=['bias_response'])\n",
    "    \n",
    "    return df_sim\n",
    "\n",
    "def fit_subject(data, depends_on=None, quantiles=[.1, .2, .3, .4, .5, .6, .7, .8, .9]):\n",
    "    \n",
    "    \"\"\"\n",
    "    Simulates stim-coded data.\n",
    "    \"\"\"\n",
    "    \n",
    "    subj_idx = np.unique(data['subj_idx'])\n",
    "    m = hddm.HDDMStimCoding(data, stim_col='stimulus', split_param='v', drift_criterion=True, bias=True, \n",
    "                            include=('sv'), depends_on=depends_on, p_outlier=0,)\n",
    "    m.optimize('gsquare', quantiles=quantiles, n_runs=10)\n",
    "    res = pd.concat((pd.DataFrame([m.values], index=[subj_idx]), pd.DataFrame([m.bic_info], index=[subj_idx])), axis=1)\n",
    "    return res\n",
    "\n",
    "def summary_plot(df_group, df_sim_group=None, quantiles=[0, 0.1, 0.3, 0.5, 0.7, 0.9,], xlim=None):\n",
    "\n",
    "    # # remove NaNs:\n",
    "    # df = df.loc[~pd.isna(df.rt),:]\n",
    "    # if df_sim is not None:\n",
    "    #     df_sim = df_sim.loc[~pd.isna(df_sim.rt),:]\n",
    "\n",
    "    nr_subjects = len(np.unique(df_group['subj_idx']))\n",
    "\n",
    "    fig = plt.figure(figsize=(10,nr_subjects*2))\n",
    "    plt_nr = 1\n",
    "    for s in np.unique(df_group['subj_idx']):\n",
    "        \n",
    "        print(s)\n",
    "\n",
    "        df = df_group.copy().loc[(df_group['subj_idx']==s),:]\n",
    "        df_sim = df_sim_group.copy().loc[(df_sim_group['subj_idx']==s),:]\n",
    "        df['rt_acc'] = df['rt'].copy()\n",
    "        df.loc[df['correct']==0, 'rt_acc'] = df.loc[df['correct']==0, 'rt_acc'] * -1\n",
    "        df['rt_resp'] = df['rt'].copy()\n",
    "        df.loc[df['response']==0, 'rt_resp'] = df.loc[df['response']==0, 'rt_resp'] * -1\n",
    "        df_sim['rt_acc'] = df_sim['rt'].copy()\n",
    "        df_sim.loc[df_sim['correct']==0, 'rt_acc'] = df_sim.loc[df_sim['correct']==0, 'rt_acc'] * -1\n",
    "        df_sim['rt_resp'] = df_sim['rt'].copy()\n",
    "        df_sim.loc[df_sim['response']==0, 'rt_resp'] = df_sim.loc[df_sim['response']==0, 'rt_resp'] * -1\n",
    "        max_rt = np.percentile(df_sim.loc[~np.isnan(df_sim['rt']), 'rt'], 99)\n",
    "        bins = np.linspace(-max_rt,max_rt,21)\n",
    "        \n",
    "        # rt distributions correct vs error:\n",
    "        ax = fig.add_subplot(nr_subjects,4,plt_nr)\n",
    "        N, bins, patches = ax.hist(df.loc[:, 'rt_acc'], bins=bins, \n",
    "                                   density=True, color='green', alpha=0.5)       \n",
    "        for bin_size, bin, patch in zip(N, bins, patches):\n",
    "            if bin < 0:\n",
    "                plt.setp(patch, 'facecolor', 'r')\n",
    "        if df_sim is not None:\n",
    "            ax.hist(df_sim.loc[:, 'rt_acc'], bins=bins, density=True, \n",
    "                    histtype='step', color='k', alpha=1, label=None)   \n",
    "        ax.set_title('P(correct)={}'.format(round(df.loc[:, 'correct'].mean(), 3),))\n",
    "        ax.set_xlabel('RT (s)')\n",
    "        ax.set_ylabel('Trials (prob. dens.)')\n",
    "        plt_nr += 1\n",
    "\n",
    "        # condition accuracy plots:\n",
    "        ax = fig.add_subplot(nr_subjects,4,plt_nr)\n",
    "        df.loc[:,'rt_bin'] = pd.qcut(df['rt'], quantiles, labels=False)\n",
    "        d = df.groupby(['rt_bin']).mean().reset_index()\n",
    "        ax.errorbar(d.loc[:, \"rt\"], d.loc[:, \"correct\"], fmt='-o', color='orange', markersize=10)\n",
    "        if df_sim is not None:\n",
    "            df_sim.loc[:,'rt_bin'] = pd.qcut(df_sim['rt'], quantiles, labels=False)\n",
    "            d = df_sim.groupby(['rt_bin']).mean().reset_index()\n",
    "            ax.errorbar(d.loc[:, \"rt\"], d.loc[:, \"correct\"], fmt='x', color='k', markersize=6)\n",
    "        if xlim:\n",
    "            ax.set_xlim(xlim)\n",
    "        ax.set_ylim(0, 1)\n",
    "        ax.set_title('Conditional accuracy')\n",
    "        ax.set_xlabel('RT (quantiles)')\n",
    "        ax.set_ylabel('P(correct)')\n",
    "        plt_nr += 1\n",
    "        \n",
    "        # rt distributions response 1 vs 0:\n",
    "        ax = fig.add_subplot(nr_subjects,4,plt_nr)\n",
    "        if np.isnan(df['rt']).sum() > 0:\n",
    "            bar_width = 1\n",
    "            fraction_yes = df['response'].mean()\n",
    "            fraction_yes_sim = df_sim['response'].mean()\n",
    "            hist, edges = np.histogram(df.loc[:, 'rt_resp'], bins=bins, density=True,)\n",
    "            hist = hist * fraction_yes\n",
    "            hist_sim, edges_sim = np.histogram(df_sim.loc[:, 'rt_resp'], bins=bins, density=True,)\n",
    "            hist_sim = hist_sim * fraction_yes_sim\n",
    "            ax.bar(edges[:-1], hist, width=np.diff(edges)[0], align='edge', \n",
    "                   color='magenta', alpha=0.5, linewidth=0,)\n",
    "            # ax.plot(edges_sim[:-1], hist_sim, color='k', lw=1)\n",
    "            ax.step(edges_sim[:-1]+np.diff(edges)[0], hist_sim, color='black', lw=1)\n",
    "            # ax.hist(hist, edges, histtype='stepfilled', color='magenta', alpha=0.5, label='response')\n",
    "            # ax.hist(hist_sim, edges_sim, histtype='step', color='k',)\n",
    "            no_height = (1 - fraction_yes) / bar_width \n",
    "            no_height_sim = (1 - fraction_yes_sim) / bar_width \n",
    "            ax.bar(x=-1.5, height=no_height, width=bar_width, alpha=0.5, color='cyan', align='center')\n",
    "            ax.hlines(y=no_height_sim, xmin=-2, xmax=-1, lw=0.5, colors='black',)\n",
    "            ax.vlines(x=-2, ymin=0, ymax=no_height_sim, lw=0.5, colors='black')\n",
    "            ax.vlines(x=-1, ymin=0, ymax=no_height_sim, lw=0.5, colors='black')\n",
    "        else:\n",
    "            N, bins, patches = ax.hist(df.loc[:, 'rt_resp'], bins=bins, \n",
    "                                   density=True, color='magenta', alpha=0.5)       \n",
    "            for bin_size, bin, patch in zip(N, bins, patches):\n",
    "                if bin < 0:\n",
    "                    plt.setp(patch, 'facecolor', 'cyan')\n",
    "            ax.hist(df_sim.loc[:, 'rt_resp'], bins=bins, density=True, \n",
    "                    histtype='step', color='k', alpha=1, label=None) \n",
    "        ax.set_title('P(bias)={}'.format(round(df.loc[:, 'response'].mean(), 3),))\n",
    "        ax.set_xlabel('RT (s)')\n",
    "        ax.set_ylabel('Trials (prob. dens.)')\n",
    "        plt_nr += 1\n",
    "        \n",
    "        # condition response plots:\n",
    "        ax = fig.add_subplot(nr_subjects,4,plt_nr)\n",
    "        df.loc[:,'rt_bin'] = pd.qcut(df['rt'], quantiles, labels=False)\n",
    "        d = df.groupby(['rt_bin']).mean().reset_index()\n",
    "        ax.errorbar(d.loc[:, \"rt\"], d.loc[:, \"response\"], fmt='-o', color='orange', markersize=10)\n",
    "        if df_sim is not None:\n",
    "            df_sim.loc[:,'rt_bin'] = pd.qcut(df_sim['rt'], quantiles, labels=False)\n",
    "            d = df_sim.groupby(['rt_bin']).mean().reset_index()\n",
    "            ax.errorbar(d.loc[:, \"rt\"], d.loc[:, \"response\"], fmt='x', color='k', markersize=6)\n",
    "        if xlim:\n",
    "            ax.set_xlim(xlim)\n",
    "        ax.set_ylim(0,1)\n",
    "        ax.set_title('Conditional response')\n",
    "        ax.set_xlabel('RT (quantiles)')\n",
    "        ax.set_ylabel('P(bias)')\n",
    "        plt_nr += 1\n",
    "        \n",
    "    sns.despine(offset=3, trim=True)\n",
    "    plt.tight_layout()\n",
    "\n",
    "    return fig    "
   ]
  },
  {
   "cell_type": "markdown",
   "metadata": {},
   "source": [
    "Let's simulate our own data, so we know what the fitting procedure should converge on:"
   ]
  },
  {
   "cell_type": "code",
   "execution_count": 9,
   "metadata": {},
   "outputs": [],
   "source": [
    "# settings\n",
    "n_subjects = 10\n",
    "trials_per_level = 1000000/4\n",
    "\n",
    "# parameters:\n",
    "params0 = {'cond':0, 'v':1, 'a':1, 't':0.3, 'z':0.5, 'dc':-0.5, 'sz':0, 'st':0, 'sv':0}\n",
    "params1 = {'cond':1, 'v':1, 'a':1, 't':0.3, 'z':0.5, 'dc':0.0, 'sz':0, 'st':0, 'sv':0}\n",
    "\n",
    "# simulate:\n",
    "def simulate(params0, params1, trials_per_level, subj):\n",
    "    df0 = simulate_data(z=params0['z'], a=params0['a'], v=params0['v'], dc=params0['dc'], \n",
    "                    t=params0['t'], sv=params0['sv'], st=params0['st'], sz=params0['sz'], \n",
    "                    condition=params0['cond'], nr_trials1=trials_per_level, nr_trials2=trials_per_level)\n",
    "    df1 = simulate_data(z=params1['z'], a=params1['a'], v=params1['v'], dc=params1['dc'], \n",
    "                        t=params1['t'], sv=params1['sv'], st=params1['st'], sz=params1['sz'], \n",
    "                        condition=params1['cond'], nr_trials1=trials_per_level, nr_trials2=trials_per_level)\n",
    "    df = pd.concat((df0, df1))\n",
    "    df['subj_idx'] = subj\n",
    "    return df\n",
    "df_emp = pd.concat(Parallel(n_jobs=n_subjects)(delayed(simulate)(params0, params1, trials_per_level, subj) \n",
    "                                                      for subj in range(n_subjects)))"
   ]
  },
  {
   "cell_type": "code",
   "execution_count": 10,
   "metadata": {},
   "outputs": [
    {
     "name": "stdout",
     "output_type": "stream",
     "text": [
      "      rt  response  subj_idx  condition  correct  stimulus\n",
      "0  0.521         1         0          0        1         1\n",
      "1  0.402         0         0          0        0         1\n",
      "2  0.630         0         0          0        0         1\n",
      "3  0.422         0         0          0        0         1\n",
      "4  0.694         1         0          0        1         1\n",
      "0.7256643\n",
      "(10000000, 6)\n"
     ]
    }
   ],
   "source": [
    "# print:\n",
    "print(df_emp.head())\n",
    "print(df_emp['correct'].mean())\n",
    "print(df_emp.shape)"
   ]
  },
  {
   "cell_type": "markdown",
   "metadata": {},
   "source": [
    "Fit using the g-quare method."
   ]
  },
  {
   "cell_type": "code",
   "execution_count": 14,
   "metadata": {},
   "outputs": [
    {
     "name": "stdout",
     "output_type": "stream",
     "text": [
      "          a         v         t        sv   z_trans         z     dc(0)  \\\n",
      "0  1.000681  0.999832  0.299727  0.000800  0.002812  0.500703 -0.503056   \n",
      "1  1.000498  1.005906  0.299756  0.000060  0.005187  0.501297 -0.510044   \n",
      "2  1.000856  1.005538  0.299845  0.030549 -0.000518  0.499870 -0.502558   \n",
      "3  1.000336  1.004888  0.299839  0.086875 -0.001322  0.499670 -0.499925   \n",
      "4  0.999618  1.003704  0.300153  0.097613  0.002075  0.500519 -0.508055   \n",
      "5  0.997819  0.992823  0.300400  0.000216  0.005429  0.501357 -0.507440   \n",
      "6  0.999755  0.999062  0.300081  0.065441 -0.002369  0.499408 -0.499440   \n",
      "7  1.000316  1.000763  0.299909  0.078476  0.004649  0.501162 -0.502692   \n",
      "8  1.003021  1.019081  0.300055  0.299031  0.005295  0.501324 -0.512932   \n",
      "9  1.001184  1.000913  0.299835  0.049315  0.004196  0.501049 -0.496467   \n",
      "\n",
      "      dc(1)  \n",
      "0 -0.004075  \n",
      "1 -0.005665  \n",
      "2  0.002418  \n",
      "3  0.004433  \n",
      "4 -0.001223  \n",
      "5 -0.007493  \n",
      "6  0.000472  \n",
      "7 -0.007723  \n",
      "8 -0.017512  \n",
      "9 -0.005032  \n"
     ]
    }
   ],
   "source": [
    "# fit chi-square:\n",
    "params1 = pd.concat(Parallel(n_jobs=n_subjects)(delayed(fit_subject)(data, depends_on={'dc':'condition'}) \n",
    "                                                      for subj, data in df_emp.groupby('subj_idx')))\n",
    "params1.drop(['bic', 'likelihood', 'penalty'], axis=1, inplace=True)\n",
    "print(params1)"
   ]
  },
  {
   "cell_type": "code",
   "execution_count": 15,
   "metadata": {},
   "outputs": [
    {
     "name": "stdout",
     "output_type": "stream",
     "text": [
      "          a         v         t        sv   z_trans         z        dc\n",
      "0  1.002895  1.014196  0.299945  0.373960  0.001515  0.500379 -0.248488\n",
      "1  0.997670  0.992481  0.299905  0.088427  0.004770  0.501193 -0.257611\n",
      "2  0.998768  0.995986  0.299955  0.151010 -0.000847  0.499788 -0.245668\n",
      "3  0.997633  0.992876  0.299985  0.132222 -0.003153  0.499212 -0.240404\n",
      "4  0.999523  1.001017  0.300081  0.300096  0.004338  0.501084 -0.258563\n",
      "5  0.998563  0.992116  0.300028  0.187117  0.002501  0.500625 -0.252325\n",
      "6  0.997991  0.986652  0.299886  0.135227  0.000631  0.500158 -0.249661\n",
      "7  0.999114  0.994618  0.299976  0.216052  0.004132  0.501033 -0.255105\n",
      "8  1.001699  1.007760  0.299740  0.324909  0.003834  0.500958 -0.255414\n",
      "9  0.998952  0.992563  0.299924  0.145941  0.002273  0.500568 -0.246291\n"
     ]
    }
   ],
   "source": [
    "# fit chi-square:\n",
    "params2 = pd.concat(Parallel(n_jobs=n_subjects)(delayed(fit_subject)(data, depends_on=None) \n",
    "                                                      for subj, data in df_emp.groupby('subj_idx')))\n",
    "params2.drop(['bic', 'likelihood', 'penalty',], axis=1, inplace=True)\n",
    "print(params2)"
   ]
  },
  {
   "cell_type": "code",
   "execution_count": 22,
   "metadata": {},
   "outputs": [
    {
     "name": "stdout",
     "output_type": "stream",
     "text": [
      "    subj_idx variable     value  model\n",
      "0          0       sv  0.000800    0.0\n",
      "1          1       sv  0.000060    0.0\n",
      "2          2       sv  0.030549    0.0\n",
      "3          3       sv  0.086875    0.0\n",
      "4          4       sv  0.097613    0.0\n",
      "5          5       sv  0.000216    0.0\n",
      "6          6       sv  0.065441    0.0\n",
      "7          7       sv  0.078476    0.0\n",
      "8          8       sv  0.299031    0.0\n",
      "9          9       sv  0.049315    0.0\n",
      "10         0       sv  0.373960    1.0\n",
      "11         1       sv  0.088427    1.0\n",
      "12         2       sv  0.151010    1.0\n",
      "13         3       sv  0.132222    1.0\n",
      "14         4       sv  0.300096    1.0\n",
      "15         5       sv  0.187117    1.0\n",
      "16         6       sv  0.135227    1.0\n",
      "17         7       sv  0.216052    1.0\n",
      "18         8       sv  0.324909    1.0\n",
      "19         9       sv  0.145941    1.0\n"
     ]
    }
   ],
   "source": [
    "sv = pd.concat((params1['sv'], params2['sv']), axis=1)\n",
    "sv['subj_idx'] = np.arange(n_subjects)\n",
    "sv = sv.melt(id_vars=['subj_idx'])\n",
    "sv['model'] = np.concatenate((np.zeros(n_subjects), np.ones(n_subjects)))\n",
    "print(sv)"
   ]
  },
  {
   "cell_type": "code",
   "execution_count": 65,
   "metadata": {},
   "outputs": [
    {
     "name": "stderr",
     "output_type": "stream",
     "text": [
      "findfont: Font family ['Arial'] not found. Falling back to DejaVu Sans.\n",
      "findfont: Font family ['Arial'] not found. Falling back to DejaVu Sans.\n"
     ]
    },
    {
     "data": {
      "image/png": "[encoded data removed]",
      "text/plain": [
       "<Figure size 144x144 with 1 Axes>"
      ]
     },
     "metadata": {},
     "output_type": "display_data"
    }
   ],
   "source": [
    "fig = plt.figure(figsize=(2,2))\n",
    "sns.barplot(x='model', y='value', units='subj_idx', data=sv)\n",
    "sns.stripplot(x='model', y='value', jitter=False, data=sv)\n",
    "plt.plot(np.vstack((np.zeros(n_subjects), np.ones(n_subjects))), \n",
    "         np.vstack((sv.loc[sv['model']==0,'value'], sv.loc[sv['model']==1,'value'])),\n",
    "        color='black')\n",
    "plt.ylabel('Drift rate variability')\n",
    "sns.despine(offset=3, trim=True)\n",
    "plt.tight_layout()\n",
    "fig.savefig('figs/ddm/drift_rate1.pdf')"
   ]
  },
  {
   "cell_type": "code",
   "execution_count": 59,
   "metadata": {},
   "outputs": [
    {
     "name": "stdout",
     "output_type": "stream",
     "text": [
      "-1\n",
      "-0.8\n",
      "-0.6\n",
      "-0.4\n",
      "-0.2\n",
      "0\n"
     ]
    },
    {
     "name": "stderr",
     "output_type": "stream",
     "text": [
      "/home/jwdegee/anaconda3/envs/ddm/lib/python3.6/site-packages/joblib/externals/loky/process_executor.py:706: UserWarning: A worker stopped while some jobs were given to the executor. This can be caused by a too short worker timeout or by a memory leak.\n",
      "  \"timeout or by a memory leak.\", UserWarning\n"
     ]
    }
   ],
   "source": [
    "# settings\n",
    "n_subjects = 10\n",
    "trials_per_level = 1000000/4\n",
    "\n",
    "params = []\n",
    "dcs = [-1, -0.8, -0.6, -0.4, -0.2, -0]\n",
    "for dc in dcs:\n",
    "    \n",
    "    print(dc)\n",
    "\n",
    "    # parameters:\n",
    "    params0 = {'cond':0, 'v':1, 'a':1, 't':0.3, 'z':0.5, 'dc':dc, 'sz':0, 'st':0, 'sv':0}\n",
    "    params1 = {'cond':1, 'v':1, 'a':1, 't':0.3, 'z':0.5, 'dc':0.0, 'sz':0, 'st':0, 'sv':0}\n",
    "\n",
    "    # simulate:\n",
    "    def simulate(params0, params1, trials_per_level, subj):\n",
    "        df0 = simulate_data(z=params0['z'], a=params0['a'], v=params0['v'], dc=params0['dc'], \n",
    "                        t=params0['t'], sv=params0['sv'], st=params0['st'], sz=params0['sz'], \n",
    "                        condition=params0['cond'], nr_trials1=trials_per_level, nr_trials2=trials_per_level)\n",
    "        df1 = simulate_data(z=params1['z'], a=params1['a'], v=params1['v'], dc=params1['dc'], \n",
    "                            t=params1['t'], sv=params1['sv'], st=params1['st'], sz=params1['sz'], \n",
    "                            condition=params1['cond'], nr_trials1=trials_per_level, nr_trials2=trials_per_level)\n",
    "        df = pd.concat((df0, df1))\n",
    "        df['subj_idx'] = subj\n",
    "        return df\n",
    "    df_emp = pd.concat(Parallel(n_jobs=n_subjects)(delayed(simulate)(params0, params1, trials_per_level, subj) \n",
    "                                                          for subj in range(n_subjects)))\n",
    "    \n",
    "    # fit chi-square:\n",
    "    pars = pd.concat(Parallel(n_jobs=n_subjects)(delayed(fit_subject)(data, depends_on=None) \n",
    "                                                          for subj, data in df_emp.groupby('subj_idx')))\n",
    "    pars.drop(['bic', 'likelihood', 'penalty',], axis=1, inplace=True)\n",
    "    pars['magnitude'] = dc\n",
    "    params.append(pars)"
   ]
  },
  {
   "cell_type": "code",
   "execution_count": 66,
   "metadata": {},
   "outputs": [
    {
     "data": {
      "image/png": "[encoded data removed]",
      "text/plain": [
       "<Figure size 144x144 with 1 Axes>"
      ]
     },
     "metadata": {},
     "output_type": "display_data"
    }
   ],
   "source": [
    "p = pd.concat(params)\n",
    "fig = plt.figure(figsize=(2,2))\n",
    "plt.errorbar(x=np.array(dcs), y=np.array(p.groupby('magnitude').mean()['sv']), yerr=np.array(p.groupby('magnitude').sem()['sv']))\n",
    "plt.ylabel('Drift rate variability')\n",
    "sns.despine(offset=3, trim=True)\n",
    "plt.tight_layout()\n",
    "fig.savefig('figs/ddm/drift_rate2.pdf')"
   ]
  },
  {
   "cell_type": "code",
   "execution_count": null,
   "metadata": {},
   "outputs": [],
   "source": []
  },
  {
   "cell_type": "code",
   "execution_count": null,
   "metadata": {},
   "outputs": [],
   "source": []
  },
  {
   "cell_type": "code",
   "execution_count": null,
   "metadata": {},
   "outputs": [],
   "source": [
    "\n"
   ]
  }
 ],
 "metadata": {
  "kernelspec": {
   "display_name": "ddm",
   "language": "python",
   "name": "ddm"
  },
  "language_info": {
   "codemirror_mode": {
    "name": "ipython",
    "version": 3
   },
   "file_extension": ".py",
   "mimetype": "text/x-python",
   "name": "python",
   "nbconvert_exporter": "python",
   "pygments_lexer": "ipython3",
   "version": "3.6.10"
  }
 },
 "nbformat": 4,
 "nbformat_minor": 2
}
