{
 "cells": [
  {
   "cell_type": "code",
   "execution_count": 1,
   "metadata": {},
   "outputs": [
    {
     "name": "stderr",
     "output_type": "stream",
     "text": [
      "/opt/conda/lib/python3.7/site-packages/IPython/parallel.py:13: ShimWarning: The `IPython.parallel` package has been deprecated since IPython 4.0. You should import from ipyparallel instead.\n",
      "  \"You should import from ipyparallel instead.\", ShimWarning)\n"
     ]
    }
   ],
   "source": [
    "import sys, os\n",
    "import numpy as np\n",
    "import pandas as pd\n",
    "import matplotlib\n",
    "import matplotlib.pyplot as plt\n",
    "import seaborn as sns\n",
    "import hddm\n",
    "from joblib import Parallel, delayed\n",
    "from IPython import embed as shell"
   ]
  },
  {
   "cell_type": "code",
   "execution_count": 2,
   "metadata": {},
   "outputs": [
    {
     "data": {
      "text/plain": [
       "{'font.size': 12.0,\n",
       " 'axes.labelsize': 7.0,\n",
       " 'axes.titlesize': 7.0,\n",
       " 'xtick.labelsize': 6.0,\n",
       " 'ytick.labelsize': 6.0,\n",
       " 'legend.fontsize': 6.0,\n",
       " 'axes.linewidth': 0.25,\n",
       " 'grid.linewidth': 1.0,\n",
       " 'lines.linewidth': 1.5,\n",
       " 'lines.markersize': 6.0,\n",
       " 'patch.linewidth': 1.0,\n",
       " 'xtick.major.width': 0.25,\n",
       " 'ytick.major.width': 0.25,\n",
       " 'xtick.minor.width': 1.0,\n",
       " 'ytick.minor.width': 1.0,\n",
       " 'xtick.major.size': 6.0,\n",
       " 'ytick.major.size': 6.0,\n",
       " 'xtick.minor.size': 4.0,\n",
       " 'ytick.minor.size': 4.0,\n",
       " 'legend.title_fontsize': 12.0}"
      ]
     },
     "execution_count": 2,
     "metadata": {},
     "output_type": "execute_result"
    }
   ],
   "source": [
    "matplotlib.rcParams['pdf.fonttype'] = 42\n",
    "matplotlib.rcParams['ps.fonttype'] = 42\n",
    "sns.set(style='ticks', font='Arial', font_scale=1, rc={\n",
    "    'axes.labelsize': 7,\n",
    "    'axes.titlesize': 7,\n",
    "    'xtick.labelsize': 6,\n",
    "    'ytick.labelsize': 6,\n",
    "    'legend.fontsize': 6,\n",
    "    'axes.linewidth': 0.25,\n",
    "    'xtick.major.width': 0.25,\n",
    "    'ytick.major.width': 0.25,\n",
    "    'ytick.major.width': 0.25,\n",
    "    'ytick.major.width': 0.25,\n",
    "    'ytick.major.pad' : 2.0,\n",
    "    'ytick.minor.pad' : 2.0,\n",
    "    'xtick.major.pad' : 2.0,\n",
    "    'xtick.minor.pad' : 2.0,\n",
    "    'axes.labelpad' : 4.0,\n",
    "    'axes.titlepad' : 6.0,\n",
    "    } )\n",
    "sns.plotting_context()"
   ]
  },
  {
   "cell_type": "code",
   "execution_count": 3,
   "metadata": {},
   "outputs": [],
   "source": [
    "def get_choice(row):\n",
    "    \n",
    "    if row.condition == 'present':\n",
    "        if row.response == 1:\n",
    "            return 1\n",
    "        else:\n",
    "            return 0\n",
    "    elif row.condition == 'absent':\n",
    "        if row.response == 0:\n",
    "            return 1\n",
    "        else:\n",
    "            return 0"
   ]
  },
  {
   "cell_type": "code",
   "execution_count": null,
   "metadata": {
    "scrolled": true
   },
   "outputs": [],
   "source": []
  },
  {
   "cell_type": "code",
   "execution_count": 4,
   "metadata": {},
   "outputs": [],
   "source": [
    "def simulate_data(a, v, t, z, dc, sv=0, sz=0, st=0, condition=0, nr_trials1=1000, nr_trials2=1000):\n",
    "    \n",
    "    \"\"\"\n",
    "    Simulates stim-coded data.\n",
    "    \"\"\"\n",
    "    \n",
    "    parameters1 = {'a':a, 'v':v+dc, 't':t, 'z':z, 'sv':sv, 'sz': sz, 'st': st}\n",
    "    parameters2 = {'a':a, 'v':v-dc, 't':t, 'z':1-z, 'sv':sv, 'sz': sz, 'st': st}\n",
    "    df_sim1, params_sim1 = hddm.generate.gen_rand_data(params=parameters1, size=nr_trials1, subjs=1, subj_noise=0)\n",
    "    df_sim1['condition'] = 'present'\n",
    "    df_sim2, params_sim2 = hddm.generate.gen_rand_data(params=parameters2, size=nr_trials2, subjs=1, subj_noise=0)\n",
    "    df_sim2['condition'] = 'absent'\n",
    "    df_sim = pd.concat((df_sim1, df_sim2))\n",
    "    df_sim['bias_response'] = df_sim.apply(get_choice, 1)\n",
    "    df_sim['correct'] = df_sim['response'].astype(int)\n",
    "    df_sim['response'] = df_sim['bias_response'].astype(int)\n",
    "    df_sim['stimulus'] = np.array((np.array(df_sim['response']==1) & np.array(df_sim['correct']==1)) + (np.array(df_sim['response']==0) & np.array(df_sim['correct']==0)), dtype=int)\n",
    "    df_sim['condition'] = condition\n",
    "    df_sim = df_sim.drop(columns=['bias_response'])\n",
    "    \n",
    "    return df_sim"
   ]
  },
  {
   "cell_type": "code",
   "execution_count": null,
   "metadata": {},
   "outputs": [],
   "source": []
  },
  {
   "cell_type": "code",
   "execution_count": 5,
   "metadata": {},
   "outputs": [],
   "source": [
    "def fit_subject(data, depends_on=None, quantiles=[.1, .2, .3, .4, .5, .6, .7, .8, .9]):\n",
    "    \n",
    "    \"\"\"\n",
    "    Simulates stim-coded data.\n",
    "    \"\"\"\n",
    "    \n",
    "    subj_idx = np.unique(data['subj_idx'])\n",
    "    m = hddm.HDDMStimCoding(data, stim_col='stimulus', split_param='v', drift_criterion=True, bias=True, \n",
    "                            include=('sv'), depends_on=depends_on, p_outlier=0,)\n",
    "    m.optimize('gsquare', quantiles=quantiles, n_runs=10)\n",
    "    res = pd.concat((pd.DataFrame([m.values], index=[subj_idx]), pd.DataFrame([m.bic_info], index=[subj_idx])), axis=1)\n",
    "    return res"
   ]
  },
  {
   "cell_type": "code",
   "execution_count": null,
   "metadata": {},
   "outputs": [],
   "source": []
  },
  {
   "cell_type": "code",
   "execution_count": 6,
   "metadata": {},
   "outputs": [],
   "source": [
    "def summary_plot(df_group, df_sim_group=None, quantiles=[0, 0.1, 0.3, 0.5, 0.7, 0.9,], xlim=None):\n",
    "\n",
    "    # # remove NaNs:\n",
    "    # df = df.loc[~pd.isna(df.rt),:]\n",
    "    # if df_sim is not None:\n",
    "    #     df_sim = df_sim.loc[~pd.isna(df_sim.rt),:]\n",
    "\n",
    "    nr_subjects = len(np.unique(df_group['subj_idx']))\n",
    "\n",
    "    fig = plt.figure(figsize=(10,nr_subjects*2))\n",
    "    plt_nr = 1\n",
    "    for s in np.unique(df_group['subj_idx']):\n",
    "        \n",
    "        print(s)\n",
    "\n",
    "        df = df_group.copy().loc[(df_group['subj_idx']==s),:]\n",
    "        df_sim = df_sim_group.copy().loc[(df_sim_group['subj_idx']==s),:]\n",
    "        df['rt_acc'] = df['rt'].copy()\n",
    "        df.loc[df['correct']==0, 'rt_acc'] = df.loc[df['correct']==0, 'rt_acc'] * -1\n",
    "        df['rt_resp'] = df['rt'].copy()\n",
    "        df.loc[df['response']==0, 'rt_resp'] = df.loc[df['response']==0, 'rt_resp'] * -1\n",
    "        df_sim['rt_acc'] = df_sim['rt'].copy()\n",
    "        df_sim.loc[df_sim['correct']==0, 'rt_acc'] = df_sim.loc[df_sim['correct']==0, 'rt_acc'] * -1\n",
    "        df_sim['rt_resp'] = df_sim['rt'].copy()\n",
    "        df_sim.loc[df_sim['response']==0, 'rt_resp'] = df_sim.loc[df_sim['response']==0, 'rt_resp'] * -1\n",
    "        max_rt = np.percentile(df_sim.loc[~np.isnan(df_sim['rt']), 'rt'], 99)\n",
    "        bins = np.linspace(-max_rt,max_rt,21)\n",
    "        \n",
    "        # rt distributions correct vs error:\n",
    "        ax = fig.add_subplot(nr_subjects,4,plt_nr)\n",
    "        N, bins, patches = ax.hist(df.loc[:, 'rt_acc'], bins=bins, \n",
    "                                   density=True, color='green', alpha=0.5)       \n",
    "        for bin_size, bin, patch in zip(N, bins, patches):\n",
    "            if bin < 0:\n",
    "                plt.setp(patch, 'facecolor', 'r')\n",
    "        if df_sim is not None:\n",
    "            ax.hist(df_sim.loc[:, 'rt_acc'], bins=bins, density=True, \n",
    "                    histtype='step', color='k', alpha=1, label=None)   \n",
    "        ax.set_title('P(correct)={}'.format(round(df.loc[:, 'correct'].mean(), 3),))\n",
    "        ax.set_xlabel('RT (s)')\n",
    "        ax.set_ylabel('Trials (prob. dens.)')\n",
    "        plt_nr += 1\n",
    "\n",
    "        # condition accuracy plots:\n",
    "        ax = fig.add_subplot(nr_subjects,4,plt_nr)\n",
    "        df.loc[:,'rt_bin'] = pd.qcut(df['rt'], quantiles, labels=False)\n",
    "        d = df.groupby(['rt_bin']).mean().reset_index()\n",
    "        ax.errorbar(d.loc[:, \"rt\"], d.loc[:, \"correct\"], fmt='-o', color='orange', markersize=10)\n",
    "        if df_sim is not None:\n",
    "            df_sim.loc[:,'rt_bin'] = pd.qcut(df_sim['rt'], quantiles, labels=False)\n",
    "            d = df_sim.groupby(['rt_bin']).mean().reset_index()\n",
    "            ax.errorbar(d.loc[:, \"rt\"], d.loc[:, \"correct\"], fmt='x', color='k', markersize=6)\n",
    "        if xlim:\n",
    "            ax.set_xlim(xlim)\n",
    "        ax.set_ylim(0, 1)\n",
    "        ax.set_title('Conditional accuracy')\n",
    "        ax.set_xlabel('RT (quantiles)')\n",
    "        ax.set_ylabel('P(correct)')\n",
    "        plt_nr += 1\n",
    "        \n",
    "        # rt distributions response 1 vs 0:\n",
    "        ax = fig.add_subplot(nr_subjects,4,plt_nr)\n",
    "        if np.isnan(df['rt']).sum() > 0:\n",
    "            bar_width = 1\n",
    "            fraction_yes = df['response'].mean()\n",
    "            fraction_yes_sim = df_sim['response'].mean()\n",
    "            hist, edges = np.histogram(df.loc[:, 'rt_resp'], bins=bins, density=True,)\n",
    "            hist = hist * fraction_yes\n",
    "            hist_sim, edges_sim = np.histogram(df_sim.loc[:, 'rt_resp'], bins=bins, density=True,)\n",
    "            hist_sim = hist_sim * fraction_yes_sim\n",
    "            ax.bar(edges[:-1], hist, width=np.diff(edges)[0], align='edge', \n",
    "                   color='magenta', alpha=0.5, linewidth=0,)\n",
    "            # ax.plot(edges_sim[:-1], hist_sim, color='k', lw=1)\n",
    "            ax.step(edges_sim[:-1]+np.diff(edges)[0], hist_sim, color='black', lw=1)\n",
    "            # ax.hist(hist, edges, histtype='stepfilled', color='magenta', alpha=0.5, label='response')\n",
    "            # ax.hist(hist_sim, edges_sim, histtype='step', color='k',)\n",
    "            no_height = (1 - fraction_yes) / bar_width \n",
    "            no_height_sim = (1 - fraction_yes_sim) / bar_width \n",
    "            ax.bar(x=-1.5, height=no_height, width=bar_width, alpha=0.5, color='cyan', align='center')\n",
    "            ax.hlines(y=no_height_sim, xmin=-2, xmax=-1, lw=0.5, colors='black',)\n",
    "            ax.vlines(x=-2, ymin=0, ymax=no_height_sim, lw=0.5, colors='black')\n",
    "            ax.vlines(x=-1, ymin=0, ymax=no_height_sim, lw=0.5, colors='black')\n",
    "        else:\n",
    "            N, bins, patches = ax.hist(df.loc[:, 'rt_resp'], bins=bins, \n",
    "                                   density=True, color='magenta', alpha=0.5)       \n",
    "            for bin_size, bin, patch in zip(N, bins, patches):\n",
    "                if bin < 0:\n",
    "                    plt.setp(patch, 'facecolor', 'cyan')\n",
    "            ax.hist(df_sim.loc[:, 'rt_resp'], bins=bins, density=True, \n",
    "                    histtype='step', color='k', alpha=1, label=None) \n",
    "        ax.set_title('P(bias)={}'.format(round(df.loc[:, 'response'].mean(), 3),))\n",
    "        ax.set_xlabel('RT (s)')\n",
    "        ax.set_ylabel('Trials (prob. dens.)')\n",
    "        plt_nr += 1\n",
    "        \n",
    "        # condition response plots:\n",
    "        ax = fig.add_subplot(nr_subjects,4,plt_nr)\n",
    "        df.loc[:,'rt_bin'] = pd.qcut(df['rt'], quantiles, labels=False)\n",
    "        d = df.groupby(['rt_bin']).mean().reset_index()\n",
    "        ax.errorbar(d.loc[:, \"rt\"], d.loc[:, \"response\"], fmt='-o', color='orange', markersize=10)\n",
    "        if df_sim is not None:\n",
    "            df_sim.loc[:,'rt_bin'] = pd.qcut(df_sim['rt'], quantiles, labels=False)\n",
    "            d = df_sim.groupby(['rt_bin']).mean().reset_index()\n",
    "            ax.errorbar(d.loc[:, \"rt\"], d.loc[:, \"response\"], fmt='x', color='k', markersize=6)\n",
    "        if xlim:\n",
    "            ax.set_xlim(xlim)\n",
    "        ax.set_ylim(0,1)\n",
    "        ax.set_title('Conditional response')\n",
    "        ax.set_xlabel('RT (quantiles)')\n",
    "        ax.set_ylabel('P(bias)')\n",
    "        plt_nr += 1\n",
    "        \n",
    "    sns.despine(offset=3, trim=True)\n",
    "    plt.tight_layout()\n",
    "\n",
    "    return fig"
   ]
  },
  {
   "cell_type": "code",
   "execution_count": null,
   "metadata": {},
   "outputs": [],
   "source": []
  },
  {
   "cell_type": "code",
   "execution_count": 7,
   "metadata": {},
   "outputs": [],
   "source": [
    "# settings\n",
    "n_subjects = 10\n",
    "trials_per_level = 1000000/4\n",
    "\n",
    "# parameters:\n",
    "params0 = {'cond':0, 'v':1, 'a':1, 't':0.3, 'z':0.5, 'dc':-0.5, 'sz':0, 'st':0, 'sv':0}\n",
    "params1 = {'cond':1, 'v':1, 'a':1, 't':0.3, 'z':0.5, 'dc':0.0, 'sz':0, 'st':0, 'sv':0}"
   ]
  },
  {
   "cell_type": "code",
   "execution_count": 8,
   "metadata": {},
   "outputs": [],
   "source": [
    "# simulate:\n",
    "def simulate(params0, params1, trials_per_level, subj):\n",
    "    df0 = simulate_data(z=params0['z'], a=params0['a'], v=params0['v'], dc=params0['dc'], \n",
    "                    t=params0['t'], sv=params0['sv'], st=params0['st'], sz=params0['sz'], \n",
    "                    condition=params0['cond'], nr_trials1=trials_per_level, nr_trials2=trials_per_level)\n",
    "    df1 = simulate_data(z=params1['z'], a=params1['a'], v=params1['v'], dc=params1['dc'], \n",
    "                        t=params1['t'], sv=params1['sv'], st=params1['st'], sz=params1['sz'], \n",
    "                        condition=params1['cond'], nr_trials1=trials_per_level, nr_trials2=trials_per_level)\n",
    "    df = pd.concat((df0, df1))\n",
    "    df['subj_idx'] = subj\n",
    "    return df\n",
    "df_emp = pd.concat(Parallel(n_jobs=n_subjects)(delayed(simulate)(params0, params1, trials_per_level, subj) \n",
    "                                                      for subj in range(n_subjects)))"
   ]
  },
  {
   "cell_type": "code",
   "execution_count": 9,
   "metadata": {},
   "outputs": [
    {
     "name": "stdout",
     "output_type": "stream",
     "text": [
      "      rt  response  subj_idx  condition  correct  stimulus\n",
      "0  0.416         1         0          0        1         1\n",
      "1  0.474         0         0          0        0         1\n",
      "2  0.362         1         0          0        1         1\n",
      "3  0.618         1         0          0        1         1\n",
      "4  0.607         1         0          0        1         1\n",
      "0.7253534\n",
      "(10000000, 6)\n"
     ]
    }
   ],
   "source": [
    "# print:\n",
    "print(df_emp.head())\n",
    "print(df_emp['correct'].mean())\n",
    "print(df_emp.shape)"
   ]
  },
  {
   "cell_type": "code",
   "execution_count": 10,
   "metadata": {},
   "outputs": [
    {
     "name": "stdout",
     "output_type": "stream",
     "text": [
      "          a         v         t        sv   z_trans         z     dc(0)  \\\n",
      "0  1.000327  1.005121  0.300067  0.013025  0.003514  0.500878 -0.504898   \n",
      "1  0.999100  0.998912  0.300258  0.000167  0.001505  0.500376 -0.499553   \n",
      "2  0.999123  0.999344  0.300153  0.053017  0.004274  0.501069 -0.504160   \n",
      "3  0.999949  0.998704  0.299878  0.000411 -0.003846  0.499039 -0.495586   \n",
      "4  0.999186  1.000429  0.300243  0.104148 -0.000773  0.499807 -0.499454   \n",
      "5  0.998992  1.000656  0.300080  0.064545  0.003530  0.500882 -0.507098   \n",
      "6  1.000181  1.002518  0.299771  0.078549 -0.002992  0.499252 -0.498913   \n",
      "7  0.999541  1.001546  0.300179  0.000915  0.002484  0.500621 -0.502092   \n",
      "8  1.000692  1.002241  0.299954  0.076155 -0.002187  0.499453 -0.499333   \n",
      "9  0.999311  1.004072  0.300610  0.075387 -0.001947  0.499513 -0.502628   \n",
      "\n",
      "      dc(1)  \n",
      "0 -0.005197  \n",
      "1  0.004028  \n",
      "2 -0.008469  \n",
      "3  0.006131  \n",
      "4  0.005275  \n",
      "5 -0.001725  \n",
      "6  0.012472  \n",
      "7 -0.003456  \n",
      "8  0.006086  \n",
      "9  0.006178  \n"
     ]
    }
   ],
   "source": [
    "# fit chi-square:\n",
    "params1 = pd.concat(Parallel(n_jobs=n_subjects)(delayed(fit_subject)(data, depends_on={'dc':'condition'}) \n",
    "                                                      for subj, data in df_emp.groupby('subj_idx')))\n",
    "params1.drop(['bic', 'likelihood', 'penalty'], axis=1, inplace=True)\n",
    "print(params1)"
   ]
  },
  {
   "cell_type": "code",
   "execution_count": 11,
   "metadata": {},
   "outputs": [
    {
     "name": "stdout",
     "output_type": "stream",
     "text": [
      "          a         v         t        sv   z_trans         z        dc\n",
      "0  0.997470  0.993749  0.300049  0.105345  0.007665  0.501916 -0.265368\n",
      "1  0.996027  0.988875  0.300255  0.031848  0.009609  0.502402 -0.265364\n",
      "2  0.999722  1.002287  0.300190  0.317449  0.002439  0.500610 -0.254735\n",
      "3  0.997686  0.988991  0.299882  0.114206  0.001851  0.500463 -0.253814\n",
      "4  0.997415  0.987617  0.300051  0.157518  0.001747  0.500437 -0.248031\n",
      "5  0.997213  0.990058  0.299973  0.155140  0.001150  0.500287 -0.249457\n",
      "6  1.000396  1.007417  0.299951  0.340091 -0.000089  0.499978 -0.247808\n",
      "7  0.997878  0.994299  0.300108  0.142959  0.000628  0.500157 -0.246748\n",
      "8  0.997835  0.986798  0.299968  0.129275 -0.001249  0.499688 -0.247013\n",
      "9  0.998438  0.993381  0.300169  0.163046 -0.002421  0.499395 -0.242642\n"
     ]
    }
   ],
   "source": [
    "# fit chi-square:\n",
    "params2 = pd.concat(Parallel(n_jobs=n_subjects)(delayed(fit_subject)(data, depends_on=None) \n",
    "                                                      for subj, data in df_emp.groupby('subj_idx')))\n",
    "params2.drop(['bic', 'likelihood', 'penalty',], axis=1, inplace=True)\n",
    "print(params2)"
   ]
  },
  {
   "cell_type": "code",
   "execution_count": 12,
   "metadata": {},
   "outputs": [
    {
     "name": "stdout",
     "output_type": "stream",
     "text": [
      "    subj_idx variable     value  model\n",
      "0          0       sv  0.013025    0.0\n",
      "1          1       sv  0.000167    0.0\n",
      "2          2       sv  0.053017    0.0\n",
      "3          3       sv  0.000411    0.0\n",
      "4          4       sv  0.104148    0.0\n",
      "5          5       sv  0.064545    0.0\n",
      "6          6       sv  0.078549    0.0\n",
      "7          7       sv  0.000915    0.0\n",
      "8          8       sv  0.076155    0.0\n",
      "9          9       sv  0.075387    0.0\n",
      "10         0       sv  0.105345    1.0\n",
      "11         1       sv  0.031848    1.0\n",
      "12         2       sv  0.317449    1.0\n",
      "13         3       sv  0.114206    1.0\n",
      "14         4       sv  0.157518    1.0\n",
      "15         5       sv  0.155140    1.0\n",
      "16         6       sv  0.340091    1.0\n",
      "17         7       sv  0.142959    1.0\n",
      "18         8       sv  0.129275    1.0\n",
      "19         9       sv  0.163046    1.0\n"
     ]
    }
   ],
   "source": [
    "sv = pd.concat((params1['sv'], params2['sv']), axis=1)\n",
    "sv['subj_idx'] = np.arange(n_subjects)\n",
    "sv = sv.melt(id_vars=['subj_idx'])\n",
    "sv['model'] = np.concatenate((np.zeros(n_subjects), np.ones(n_subjects)))\n",
    "print(sv)"
   ]
  },
  {
   "cell_type": "code",
   "execution_count": 13,
   "metadata": {},
   "outputs": [
    {
     "name": "stderr",
     "output_type": "stream",
     "text": [
      "findfont: Font family ['Arial'] not found. Falling back to DejaVu Sans.\n",
      "findfont: Font family ['Arial'] not found. Falling back to DejaVu Sans.\n"
     ]
    },
    {
     "data": {
      "image/png": "[encoded data removed]",
      "text/plain": [
       "<Figure size 144x144 with 1 Axes>"
      ]
     },
     "metadata": {},
     "output_type": "display_data"
    }
   ],
   "source": [
    "fig = plt.figure(figsize=(2,2))\n",
    "sns.barplot(x='model', y='value', units='subj_idx', data=sv)\n",
    "sns.stripplot(x='model', y='value', jitter=False, data=sv)\n",
    "plt.plot(np.vstack((np.zeros(n_subjects), np.ones(n_subjects))), \n",
    "         np.vstack((sv.loc[sv['model']==0,'value'], sv.loc[sv['model']==1,'value'])),\n",
    "        color='black')\n",
    "plt.ylabel('Drift rate variability')\n",
    "sns.despine(offset=3, trim=True)\n",
    "plt.tight_layout()\n",
    "fig.savefig('figs/ddm/drift_rate1.pdf')"
   ]
  },
  {
   "cell_type": "code",
   "execution_count": 14,
   "metadata": {},
   "outputs": [
    {
     "name": "stdout",
     "output_type": "stream",
     "text": [
      "-1\n",
      "-0.8\n",
      "-0.6\n",
      "-0.4\n",
      "-0.2\n",
      "0\n"
     ]
    }
   ],
   "source": [
    "# settings\n",
    "n_subjects = 10\n",
    "trials_per_level = 1000000/4\n",
    "\n",
    "params = []\n",
    "dcs = [-1, -0.8, -0.6, -0.4, -0.2, -0]\n",
    "for dc in dcs:\n",
    "    \n",
    "    print(dc)\n",
    "\n",
    "    # parameters:\n",
    "    params0 = {'cond':0, 'v':1, 'a':1, 't':0.3, 'z':0.5, 'dc':dc, 'sz':0, 'st':0, 'sv':0}\n",
    "    params1 = {'cond':1, 'v':1, 'a':1, 't':0.3, 'z':0.5, 'dc':0.0, 'sz':0, 'st':0, 'sv':0}\n",
    "\n",
    "    # simulate:\n",
    "    def simulate(params0, params1, trials_per_level, subj):\n",
    "        df0 = simulate_data(z=params0['z'], a=params0['a'], v=params0['v'], dc=params0['dc'], \n",
    "                        t=params0['t'], sv=params0['sv'], st=params0['st'], sz=params0['sz'], \n",
    "                        condition=params0['cond'], nr_trials1=trials_per_level, nr_trials2=trials_per_level)\n",
    "        df1 = simulate_data(z=params1['z'], a=params1['a'], v=params1['v'], dc=params1['dc'], \n",
    "                            t=params1['t'], sv=params1['sv'], st=params1['st'], sz=params1['sz'], \n",
    "                            condition=params1['cond'], nr_trials1=trials_per_level, nr_trials2=trials_per_level)\n",
    "        df = pd.concat((df0, df1))\n",
    "        df['subj_idx'] = subj\n",
    "        return df\n",
    "    df_emp = pd.concat(Parallel(n_jobs=n_subjects)(delayed(simulate)(params0, params1, trials_per_level, subj) \n",
    "                                                          for subj in range(n_subjects)))\n",
    "    \n",
    "    # fit chi-square:\n",
    "    pars = pd.concat(Parallel(n_jobs=n_subjects)(delayed(fit_subject)(data, depends_on=None) \n",
    "                                                          for subj, data in df_emp.groupby('subj_idx')))\n",
    "    pars.drop(['bic', 'likelihood', 'penalty',], axis=1, inplace=True)\n",
    "    pars['magnitude'] = dc\n",
    "    params.append(pars)"
   ]
  },
  {
   "cell_type": "code",
   "execution_count": 15,
   "metadata": {},
   "outputs": [
    {
     "data": {
      "image/png": "[encoded data removed]",
      "text/plain": [
       "<Figure size 144x144 with 1 Axes>"
      ]
     },
     "metadata": {},
     "output_type": "display_data"
    }
   ],
   "source": [
    "p = pd.concat(params)\n",
    "fig = plt.figure(figsize=(2,2))\n",
    "plt.errorbar(x=np.array(dcs), y=np.array(p.groupby('magnitude').mean()['sv']), yerr=np.array(p.groupby('magnitude').sem()['sv']))\n",
    "plt.ylabel('Drift rate variability')\n",
    "sns.despine(offset=3, trim=True)\n",
    "plt.tight_layout()\n",
    "fig.savefig('figs/ddm/drift_rate2.pdf')"
   ]
  },
  {
   "cell_type": "code",
   "execution_count": null,
   "metadata": {},
   "outputs": [],
   "source": []
  },
  {
   "cell_type": "code",
   "execution_count": null,
   "metadata": {},
   "outputs": [],
   "source": []
  }
 ],
 "metadata": {
  "kernelspec": {
   "display_name": "Python 3",
   "language": "python",
   "name": "python3"
  },
  "language_info": {
   "codemirror_mode": {
    "name": "ipython",
    "version": 3
   },
   "file_extension": ".py",
   "mimetype": "text/x-python",
   "name": "python",
   "nbconvert_exporter": "python",
   "pygments_lexer": "ipython3",
   "version": "3.7.6"
  }
 },
 "nbformat": 4,
 "nbformat_minor": 4
}
